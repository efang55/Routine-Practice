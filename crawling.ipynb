{
 "cells": [
  {
   "cell_type": "markdown",
   "metadata": {},
   "source": [
    "# 網頁爬蟲練習"
   ]
  },
  {
   "cell_type": "code",
   "execution_count": 1,
   "metadata": {
    "collapsed": true
   },
   "outputs": [],
   "source": [
    "import requests\n",
    "from bs4 import BeautifulSoup"
   ]
  },
  {
   "cell_type": "code",
   "execution_count": 2,
   "metadata": {
    "collapsed": true
   },
   "outputs": [],
   "source": [
    "url = 'http://www.limitlessiq.com/news/post/view/id/4167/'"
   ]
  },
  {
   "cell_type": "code",
   "execution_count": 3,
   "metadata": {
    "collapsed": true
   },
   "outputs": [],
   "source": [
    "# 使用 GET 方式下載普通網頁\n",
    "page = requests.get(url)"
   ]
  },
  {
   "cell_type": "code",
   "execution_count": 4,
   "metadata": {
    "collapsed": true
   },
   "outputs": [],
   "source": [
    "soup = BeautifulSoup(page.text, 'lxml')"
   ]
  },
  {
   "cell_type": "code",
   "execution_count": 5,
   "metadata": {
    "collapsed": true
   },
   "outputs": [],
   "source": [
    "t = soup.select('div[class=\"post-post_content\"]')[0].text"
   ]
  },
  {
   "cell_type": "markdown",
   "metadata": {},
   "source": [
    "所擷取下來的資料是一個 list 的形式，如果符合 class name的資料有多筆，則會依序存入這個 list，因此上述的[0]，代表的是list中的第一筆，實際應用上我們常會搭配迴圈來將多筆資料一次存取。.text 這個 method 則可以幫助我們取得不含 html 標籤的純文字內容。"
   ]
  },
  {
   "cell_type": "code",
   "execution_count": 7,
   "metadata": {},
   "outputs": [
    {
     "data": {
      "text/plain": [
       "' 【本文經合作夥伴《科技報橘》授權轉載，並同意《智慧機器人網》修訂標題，原文標題為《同事問：為什麼你的 PPT 1 秒就做好？「因為我的 Office 內建 AI 功能喔~」》，作者：TO 主題新聞，《智慧機器人網》編輯整理】\\n文、圖／科技報橘\\n在被喻為「AI 實踐年」的 2018 年，台灣企業如何應用 AI 創造產業升級的契機？ 微軟推出具備 AI 引擎的 Microsoft 365 智慧型解決方案，整合了受個人與企業用戶歡迎的 Office 365、Windows 10 與企業安全管理平台三大服務，將 AI 的 DNA 直接注入使用者最熟悉的微軟工具與平台在「智慧效能」與「智慧安全」上有大躍進。\\nAI 如何讓工作更聰明省事？\\n\\n一秒完成精美簡報的 PowerPoint 設計構想\\n將數據轉繪為地圖的 Excel 視覺化功能\\n可即席翻譯的 Presentation Translator，將口說的演講內容同步轉換成高達 60 多種語言的字幕，並透過 AI 分析前後文語意、及時修正字幕內容以求精準。\\n在觀看一段長達數小時的教學影片時， Microsoft Stream 的人臉偵測技術，自動整理出影片中每位主講人曾出現的時間點，並讓觀眾可快速跳轉到想收看的段落以節省大量查找時間。\\n開放企業將任何外部人士以「來賓」身分加入團隊中共同對話、分享檔案與協作。此功能將更有效的串聯上下游廠商、策略夥伴等關係人，。\\n\\n駭客進入 AI 時代，企業極需解決方案\\n擁有強大情報能力的 Intelligent Security Graph 智慧資安關聯分析系統為後盾，彙整全球來自 10 億台 Windows 裝置的威脅情資、每月分析 4000 億封電子郵件、檢查 4500 億次認證以及 180 億個網址的掃描後，以微軟 3500 名資安工程師人力結合人工智慧與深度學習的分析，大幅 提升偵測率。\\nWindows Defender ATP 則具備機器學習、自動判讀惡意攻擊、即時偵測零時差攻擊的能力，並可針對可疑活動啟用對應的防護工具。\\n援生物辨識的 Windows Hello 和支援信任平台模組的 Credential Guard 可強化認證資料保護，防止身分遭到盜用、偵測未經授權的存取，以及迅速識別入侵跡象。\\n台灣微軟 Microsoft 365 事業部副總經理周文英表示：「機器學習與雲端運算容易產生讓駭客侵入的漏洞。企業在選擇邁向雲端、擁抱 AI 時有所卻步，因此錯失轉型先機。」\\n【本文經合作夥伴《科技報橘》授權轉載，並同意《智慧機器人網》修訂標題，原文標題為《同事問：為什麼你的 PPT 1 秒就做好？「因為我的 Office 內建 AI 功能喔~」》，作者：TO 主題新聞，《智慧機器人網》編輯整理】 '"
      ]
     },
     "execution_count": 7,
     "metadata": {},
     "output_type": "execute_result"
    }
   ],
   "source": [
    "t"
   ]
  },
  {
   "cell_type": "code",
   "execution_count": 8,
   "metadata": {
    "collapsed": true,
    "scrolled": true
   },
   "outputs": [],
   "source": [
    "import jieba\n",
    "import jieba.analyse"
   ]
  },
  {
   "cell_type": "code",
   "execution_count": 9,
   "metadata": {
    "collapsed": true
   },
   "outputs": [],
   "source": [
    "jieba.set_dictionary('dict.txt.big')"
   ]
  },
  {
   "cell_type": "code",
   "execution_count": 10,
   "metadata": {},
   "outputs": [
    {
     "name": "stderr",
     "output_type": "stream",
     "text": [
      "Building prefix dict from C:\\Users\\fang\\Documents\\QF20170921-master\\dict.txt.big ...\n",
      "Loading model from cache C:\\Users\\fang\\AppData\\Local\\Temp\\jieba.u24b80378448023243af0c29a7265a5de.cache\n",
      "Loading model cost 1.465 seconds.\n",
      "Prefix dict has been built succesfully.\n"
     ]
    }
   ],
   "source": [
    "keywords = jieba.analyse.extract_tags(t, topK=10, withWeight=False)"
   ]
  },
  {
   "cell_type": "code",
   "execution_count": 12,
   "metadata": {},
   "outputs": [
    {
     "data": {
      "text/plain": [
       "['AI', '企業', '智慧', '機器人', '標題', '微軟', 'Windows', '偵測', '夥伴', '科技報']"
      ]
     },
     "execution_count": 12,
     "metadata": {},
     "output_type": "execute_result"
    }
   ],
   "source": [
    "keywords"
   ]
  },
  {
   "cell_type": "code",
   "execution_count": 11,
   "metadata": {
    "scrolled": true
   },
   "outputs": [
    {
     "name": "stdout",
     "output_type": "stream",
     "text": [
      "AI/ 企業/ 智慧/ 機器人/ 標題/ 微軟/ Windows/ 偵測/ 夥伴/ 科技報\n"
     ]
    }
   ],
   "source": [
    "print (\"/ \".join(keywords))"
   ]
  },
  {
   "cell_type": "code",
   "execution_count": 15,
   "metadata": {},
   "outputs": [
    {
     "data": {
      "text/plain": [
       "11"
      ]
     },
     "execution_count": 15,
     "metadata": {},
     "output_type": "execute_result"
    }
   ],
   "source": [
    "sentences = t.replace(\"\\n\",\"\").split(u\"。\")\n",
    "len(sentences)"
   ]
  },
  {
   "cell_type": "code",
   "execution_count": 16,
   "metadata": {},
   "outputs": [
    {
     "data": {
      "text/plain": [
       "[' 【本文經合作夥伴《科技報橘》授權轉載，並同意《智慧機器人網》修訂標題，原文標題為《同事問：為什麼你的 PPT 1 秒就做好？「因為我的 Office 內建 AI 功能喔~」》，作者：TO 主題新聞，《智慧機器人網》編輯整理】文、圖／科技報橘在被喻為「AI 實踐年」的 2018 年，台灣企業如何應用 AI 創造產業升級的契機？ 微軟推出具備 AI 引擎的 Microsoft 365 智慧型解決方案，整合了受個人與企業用戶歡迎的 Office 365、Windows 10 與企業安全管理平台三大服務，將 AI 的 DNA 直接注入使用者最熟悉的微軟工具與平台在「智慧效能」與「智慧安全」上有大躍進',\n",
       " 'AI 如何讓工作更聰明省事？一秒完成精美簡報的 PowerPoint 設計構想將數據轉繪為地圖的 Excel 視覺化功能可即席翻譯的 Presentation Translator，將口說的演講內容同步轉換成高達 60 多種語言的字幕，並透過 AI 分析前後文語意、及時修正字幕內容以求精準',\n",
       " '在觀看一段長達數小時的教學影片時， Microsoft Stream 的人臉偵測技術，自動整理出影片中每位主講人曾出現的時間點，並讓觀眾可快速跳轉到想收看的段落以節省大量查找時間',\n",
       " '開放企業將任何外部人士以「來賓」身分加入團隊中共同對話、分享檔案與協作',\n",
       " '此功能將更有效的串聯上下游廠商、策略夥伴等關係人，',\n",
       " '駭客進入 AI 時代，企業極需解決方案擁有強大情報能力的 Intelligent Security Graph 智慧資安關聯分析系統為後盾，彙整全球來自 10 億台 Windows 裝置的威脅情資、每月分析 4000 億封電子郵件、檢查 4500 億次認證以及 180 億個網址的掃描後，以微軟 3500 名資安工程師人力結合人工智慧與深度學習的分析，大幅 提升偵測率',\n",
       " 'Windows Defender ATP 則具備機器學習、自動判讀惡意攻擊、即時偵測零時差攻擊的能力，並可針對可疑活動啟用對應的防護工具',\n",
       " '援生物辨識的 Windows Hello 和支援信任平台模組的 Credential Guard 可強化認證資料保護，防止身分遭到盜用、偵測未經授權的存取，以及迅速識別入侵跡象',\n",
       " '台灣微軟 Microsoft 365 事業部副總經理周文英表示：「機器學習與雲端運算容易產生讓駭客侵入的漏洞',\n",
       " '企業在選擇邁向雲端、擁抱 AI 時有所卻步，因此錯失轉型先機',\n",
       " '」【本文經合作夥伴《科技報橘》授權轉載，並同意《智慧機器人網》修訂標題，原文標題為《同事問：為什麼你的 PPT 1 秒就做好？「因為我的 Office 內建 AI 功能喔~」》，作者：TO 主題新聞，《智慧機器人網》編輯整理】 ']"
      ]
     },
     "execution_count": 16,
     "metadata": {},
     "output_type": "execute_result"
    }
   ],
   "source": [
    "sentences"
   ]
  },
  {
   "cell_type": "code",
   "execution_count": 48,
   "metadata": {
    "collapsed": true
   },
   "outputs": [],
   "source": [
    "def index_of_keyword(sentences, keyword):\n",
    "    for i, s in enumerate(sentences):\n",
    "        if keyword in s:\n",
    "              return i\n",
    "    return -1"
   ]
  },
  {
   "cell_type": "code",
   "execution_count": 49,
   "metadata": {
    "collapsed": true
   },
   "outputs": [],
   "source": [
    "s_index = []\n",
    "for keyword in keywords[:5]:\n",
    "    s_index.append(index_of_keyword(sentences,keyword))\n",
    "\n",
    "s_set = set(s_index)\n",
    "s_index = list(s_set)"
   ]
  },
  {
   "cell_type": "code",
   "execution_count": 50,
   "metadata": {
    "collapsed": true
   },
   "outputs": [],
   "source": [
    "summary = \"\"\n",
    "for i in s_index:\n",
    "    summary += sentences[i]+\"。\""
   ]
  },
  {
   "cell_type": "code",
   "execution_count": 51,
   "metadata": {},
   "outputs": [
    {
     "name": "stdout",
     "output_type": "stream",
     "text": [
      " 【本文經合作夥伴《科技報橘》授權轉載，並同意《智慧機器人網》修訂標題，原文標題為《同事問：為什麼你的 PPT 1 秒就做好？「因為我的 Office 內建 AI 功能喔~」》，作者：TO 主題新聞，《智慧機器人網》編輯整理】文、圖／科技報橘在被喻為「AI 實踐年」的 2018 年，台灣企業如何應用 AI 創造產業升級的契機？ 微軟推出具備 AI 引擎的 Microsoft 365 智慧型解決方案，整合了受個人與企業用戶歡迎的 Office 365、Windows 10 與企業安全管理平台三大服務，將 AI 的 DNA 直接注入使用者最熟悉的微軟工具與平台在「智慧效能」與「智慧安全」上有大躍進。\n"
     ]
    }
   ],
   "source": [
    "print (summary)"
   ]
  }
 ],
 "metadata": {
  "kernelspec": {
   "display_name": "Python 3",
   "language": "python",
   "name": "python3"
  },
  "language_info": {
   "codemirror_mode": {
    "name": "ipython",
    "version": 3
   },
   "file_extension": ".py",
   "mimetype": "text/x-python",
   "name": "python",
   "nbconvert_exporter": "python",
   "pygments_lexer": "ipython3",
   "version": "3.6.1"
  }
 },
 "nbformat": 4,
 "nbformat_minor": 2
}
